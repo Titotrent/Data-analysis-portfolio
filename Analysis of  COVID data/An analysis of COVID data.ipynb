{
 "cells": [
  {
   "cell_type": "code",
   "execution_count": 1,
   "id": "740a8a26-d098-4fb9-9fd0-5e275c1b0c3b",
   "metadata": {},
   "outputs": [],
   "source": [
    "import pandas as pd\n",
    "import numpy as np\n",
    "import matplotlib.pyplot as plt"
   ]
  },
  {
   "cell_type": "code",
   "execution_count": 2,
   "id": "c5b91f1d-8eaa-4372-b088-933955d532cd",
   "metadata": {},
   "outputs": [],
   "source": [
    "covid_data=pd.read_csv(r'C:\\Users\\Toti\\Downloads\\owid-covid-data.csv')"
   ]
  },
  {
   "cell_type": "code",
   "execution_count": 3,
   "id": "691b7b03-4bb8-4be6-ad8e-7ab928ce6be3",
   "metadata": {},
   "outputs": [
    {
     "data": {
      "text/html": [
       "<div>\n",
       "<style scoped>\n",
       "    .dataframe tbody tr th:only-of-type {\n",
       "        vertical-align: middle;\n",
       "    }\n",
       "\n",
       "    .dataframe tbody tr th {\n",
       "        vertical-align: top;\n",
       "    }\n",
       "\n",
       "    .dataframe thead th {\n",
       "        text-align: right;\n",
       "    }\n",
       "</style>\n",
       "<table border=\"1\" class=\"dataframe\">\n",
       "  <thead>\n",
       "    <tr style=\"text-align: right;\">\n",
       "      <th></th>\n",
       "      <th>iso_code</th>\n",
       "      <th>continent</th>\n",
       "      <th>location</th>\n",
       "      <th>date</th>\n",
       "      <th>total_cases</th>\n",
       "      <th>new_cases</th>\n",
       "      <th>new_cases_smoothed</th>\n",
       "      <th>total_deaths</th>\n",
       "      <th>new_deaths</th>\n",
       "      <th>new_deaths_smoothed</th>\n",
       "      <th>...</th>\n",
       "      <th>male_smokers</th>\n",
       "      <th>handwashing_facilities</th>\n",
       "      <th>hospital_beds_per_thousand</th>\n",
       "      <th>life_expectancy</th>\n",
       "      <th>human_development_index</th>\n",
       "      <th>population</th>\n",
       "      <th>excess_mortality_cumulative_absolute</th>\n",
       "      <th>excess_mortality_cumulative</th>\n",
       "      <th>excess_mortality</th>\n",
       "      <th>excess_mortality_cumulative_per_million</th>\n",
       "    </tr>\n",
       "  </thead>\n",
       "  <tbody>\n",
       "    <tr>\n",
       "      <th>0</th>\n",
       "      <td>AFG</td>\n",
       "      <td>Asia</td>\n",
       "      <td>Afghanistan</td>\n",
       "      <td>2020-01-05</td>\n",
       "      <td>0.0</td>\n",
       "      <td>0.0</td>\n",
       "      <td>NaN</td>\n",
       "      <td>0.0</td>\n",
       "      <td>0.0</td>\n",
       "      <td>NaN</td>\n",
       "      <td>...</td>\n",
       "      <td>NaN</td>\n",
       "      <td>37.746</td>\n",
       "      <td>0.5</td>\n",
       "      <td>64.83</td>\n",
       "      <td>0.511</td>\n",
       "      <td>41128772.0</td>\n",
       "      <td>NaN</td>\n",
       "      <td>NaN</td>\n",
       "      <td>NaN</td>\n",
       "      <td>NaN</td>\n",
       "    </tr>\n",
       "    <tr>\n",
       "      <th>1</th>\n",
       "      <td>AFG</td>\n",
       "      <td>Asia</td>\n",
       "      <td>Afghanistan</td>\n",
       "      <td>2020-01-06</td>\n",
       "      <td>0.0</td>\n",
       "      <td>0.0</td>\n",
       "      <td>NaN</td>\n",
       "      <td>0.0</td>\n",
       "      <td>0.0</td>\n",
       "      <td>NaN</td>\n",
       "      <td>...</td>\n",
       "      <td>NaN</td>\n",
       "      <td>37.746</td>\n",
       "      <td>0.5</td>\n",
       "      <td>64.83</td>\n",
       "      <td>0.511</td>\n",
       "      <td>41128772.0</td>\n",
       "      <td>NaN</td>\n",
       "      <td>NaN</td>\n",
       "      <td>NaN</td>\n",
       "      <td>NaN</td>\n",
       "    </tr>\n",
       "    <tr>\n",
       "      <th>2</th>\n",
       "      <td>AFG</td>\n",
       "      <td>Asia</td>\n",
       "      <td>Afghanistan</td>\n",
       "      <td>2020-01-07</td>\n",
       "      <td>0.0</td>\n",
       "      <td>0.0</td>\n",
       "      <td>NaN</td>\n",
       "      <td>0.0</td>\n",
       "      <td>0.0</td>\n",
       "      <td>NaN</td>\n",
       "      <td>...</td>\n",
       "      <td>NaN</td>\n",
       "      <td>37.746</td>\n",
       "      <td>0.5</td>\n",
       "      <td>64.83</td>\n",
       "      <td>0.511</td>\n",
       "      <td>41128772.0</td>\n",
       "      <td>NaN</td>\n",
       "      <td>NaN</td>\n",
       "      <td>NaN</td>\n",
       "      <td>NaN</td>\n",
       "    </tr>\n",
       "    <tr>\n",
       "      <th>3</th>\n",
       "      <td>AFG</td>\n",
       "      <td>Asia</td>\n",
       "      <td>Afghanistan</td>\n",
       "      <td>2020-01-08</td>\n",
       "      <td>0.0</td>\n",
       "      <td>0.0</td>\n",
       "      <td>NaN</td>\n",
       "      <td>0.0</td>\n",
       "      <td>0.0</td>\n",
       "      <td>NaN</td>\n",
       "      <td>...</td>\n",
       "      <td>NaN</td>\n",
       "      <td>37.746</td>\n",
       "      <td>0.5</td>\n",
       "      <td>64.83</td>\n",
       "      <td>0.511</td>\n",
       "      <td>41128772.0</td>\n",
       "      <td>NaN</td>\n",
       "      <td>NaN</td>\n",
       "      <td>NaN</td>\n",
       "      <td>NaN</td>\n",
       "    </tr>\n",
       "    <tr>\n",
       "      <th>4</th>\n",
       "      <td>AFG</td>\n",
       "      <td>Asia</td>\n",
       "      <td>Afghanistan</td>\n",
       "      <td>2020-01-09</td>\n",
       "      <td>0.0</td>\n",
       "      <td>0.0</td>\n",
       "      <td>NaN</td>\n",
       "      <td>0.0</td>\n",
       "      <td>0.0</td>\n",
       "      <td>NaN</td>\n",
       "      <td>...</td>\n",
       "      <td>NaN</td>\n",
       "      <td>37.746</td>\n",
       "      <td>0.5</td>\n",
       "      <td>64.83</td>\n",
       "      <td>0.511</td>\n",
       "      <td>41128772.0</td>\n",
       "      <td>NaN</td>\n",
       "      <td>NaN</td>\n",
       "      <td>NaN</td>\n",
       "      <td>NaN</td>\n",
       "    </tr>\n",
       "  </tbody>\n",
       "</table>\n",
       "<p>5 rows × 67 columns</p>\n",
       "</div>"
      ],
      "text/plain": [
       "  iso_code continent     location        date  total_cases  new_cases  \\\n",
       "0      AFG      Asia  Afghanistan  2020-01-05          0.0        0.0   \n",
       "1      AFG      Asia  Afghanistan  2020-01-06          0.0        0.0   \n",
       "2      AFG      Asia  Afghanistan  2020-01-07          0.0        0.0   \n",
       "3      AFG      Asia  Afghanistan  2020-01-08          0.0        0.0   \n",
       "4      AFG      Asia  Afghanistan  2020-01-09          0.0        0.0   \n",
       "\n",
       "   new_cases_smoothed  total_deaths  new_deaths  new_deaths_smoothed  ...  \\\n",
       "0                 NaN           0.0         0.0                  NaN  ...   \n",
       "1                 NaN           0.0         0.0                  NaN  ...   \n",
       "2                 NaN           0.0         0.0                  NaN  ...   \n",
       "3                 NaN           0.0         0.0                  NaN  ...   \n",
       "4                 NaN           0.0         0.0                  NaN  ...   \n",
       "\n",
       "   male_smokers  handwashing_facilities  hospital_beds_per_thousand  \\\n",
       "0           NaN                  37.746                         0.5   \n",
       "1           NaN                  37.746                         0.5   \n",
       "2           NaN                  37.746                         0.5   \n",
       "3           NaN                  37.746                         0.5   \n",
       "4           NaN                  37.746                         0.5   \n",
       "\n",
       "   life_expectancy  human_development_index  population  \\\n",
       "0            64.83                    0.511  41128772.0   \n",
       "1            64.83                    0.511  41128772.0   \n",
       "2            64.83                    0.511  41128772.0   \n",
       "3            64.83                    0.511  41128772.0   \n",
       "4            64.83                    0.511  41128772.0   \n",
       "\n",
       "   excess_mortality_cumulative_absolute  excess_mortality_cumulative  \\\n",
       "0                                   NaN                          NaN   \n",
       "1                                   NaN                          NaN   \n",
       "2                                   NaN                          NaN   \n",
       "3                                   NaN                          NaN   \n",
       "4                                   NaN                          NaN   \n",
       "\n",
       "   excess_mortality  excess_mortality_cumulative_per_million  \n",
       "0               NaN                                      NaN  \n",
       "1               NaN                                      NaN  \n",
       "2               NaN                                      NaN  \n",
       "3               NaN                                      NaN  \n",
       "4               NaN                                      NaN  \n",
       "\n",
       "[5 rows x 67 columns]"
      ]
     },
     "execution_count": 3,
     "metadata": {},
     "output_type": "execute_result"
    }
   ],
   "source": [
    "covid_data.head()"
   ]
  },
  {
   "cell_type": "code",
   "execution_count": 4,
   "id": "28e27dea-8625-4f98-991b-1bfd6ea3ba3c",
   "metadata": {},
   "outputs": [
    {
     "data": {
      "text/plain": [
       "(15197, 67)"
      ]
     },
     "execution_count": 4,
     "metadata": {},
     "output_type": "execute_result"
    }
   ],
   "source": [
    "covid_data.shape"
   ]
  },
  {
   "cell_type": "code",
   "execution_count": 5,
   "id": "fd417583-950e-4699-8dbc-0611fdf277a8",
   "metadata": {},
   "outputs": [
    {
     "name": "stdout",
     "output_type": "stream",
     "text": [
      "<class 'pandas.core.frame.DataFrame'>\n",
      "RangeIndex: 15197 entries, 0 to 15196\n",
      "Data columns (total 67 columns):\n",
      " #   Column                                      Non-Null Count  Dtype  \n",
      "---  ------                                      --------------  -----  \n",
      " 0   iso_code                                    15197 non-null  object \n",
      " 1   continent                                   13523 non-null  object \n",
      " 2   location                                    15197 non-null  object \n",
      " 3   date                                        15197 non-null  object \n",
      " 4   total_cases                                 15193 non-null  float64\n",
      " 5   new_cases                                   15193 non-null  float64\n",
      " 6   new_cases_smoothed                          15143 non-null  float64\n",
      " 7   total_deaths                                15192 non-null  float64\n",
      " 8   new_deaths                                  15192 non-null  float64\n",
      " 9   new_deaths_smoothed                         15142 non-null  float64\n",
      " 10  total_cases_per_million                     15192 non-null  float64\n",
      " 11  new_cases_per_million                       15192 non-null  float64\n",
      " 12  new_cases_smoothed_per_million              15142 non-null  float64\n",
      " 13  total_deaths_per_million                    15192 non-null  float64\n",
      " 14  new_deaths_per_million                      15192 non-null  float64\n",
      " 15  new_deaths_smoothed_per_million             15142 non-null  float64\n",
      " 16  reproduction_rate                           5871 non-null   float64\n",
      " 17  icu_patients                                824 non-null    float64\n",
      " 18  icu_patients_per_million                    824 non-null    float64\n",
      " 19  hosp_patients                               0 non-null      float64\n",
      " 20  hosp_patients_per_million                   0 non-null      float64\n",
      " 21  weekly_icu_admissions                       0 non-null      float64\n",
      " 22  weekly_icu_admissions_per_million           0 non-null      float64\n",
      " 23  weekly_hosp_admissions                      0 non-null      float64\n",
      " 24  weekly_hosp_admissions_per_million          0 non-null      float64\n",
      " 25  total_tests                                 960 non-null    float64\n",
      " 26  new_tests                                   839 non-null    float64\n",
      " 27  total_tests_per_thousand                    960 non-null    float64\n",
      " 28  new_tests_per_thousand                      839 non-null    float64\n",
      " 29  new_tests_smoothed                          2151 non-null   float64\n",
      " 30  new_tests_smoothed_per_thousand             2151 non-null   float64\n",
      " 31  positive_rate                               2122 non-null   float64\n",
      " 32  tests_per_case                              2041 non-null   float64\n",
      " 33  tests_units                                 2201 non-null   object \n",
      " 34  total_vaccinations                          1884 non-null   float64\n",
      " 35  people_vaccinated                           1817 non-null   float64\n",
      " 36  people_fully_vaccinated                     1733 non-null   float64\n",
      " 37  total_boosters                              1053 non-null   float64\n",
      " 38  new_vaccinations                            1283 non-null   float64\n",
      " 39  new_vaccinations_smoothed                   7033 non-null   float64\n",
      " 40  total_vaccinations_per_hundred              1884 non-null   float64\n",
      " 41  people_vaccinated_per_hundred               1817 non-null   float64\n",
      " 42  people_fully_vaccinated_per_hundred         1733 non-null   float64\n",
      " 43  total_boosters_per_hundred                  1053 non-null   float64\n",
      " 44  new_vaccinations_smoothed_per_million       7033 non-null   float64\n",
      " 45  new_people_vaccinated_smoothed              7040 non-null   float64\n",
      " 46  new_people_vaccinated_smoothed_per_hundred  7040 non-null   float64\n",
      " 47  stringency_index                            5590 non-null   float64\n",
      " 48  population_density                          11848 non-null  float64\n",
      " 49  median_age                                  8500 non-null   float64\n",
      " 50  aged_65_older                               8500 non-null   float64\n",
      " 51  aged_70_older                               8500 non-null   float64\n",
      " 52  gdp_per_capita                              8500 non-null   float64\n",
      " 53  extreme_poverty                             3478 non-null   float64\n",
      " 54  cardiovasc_death_rate                       11848 non-null  float64\n",
      " 55  diabetes_prevalence                         10174 non-null  float64\n",
      " 56  female_smokers                              5152 non-null   float64\n",
      " 57  male_smokers                                5152 non-null   float64\n",
      " 58  handwashing_facilities                      5022 non-null   float64\n",
      " 59  hospital_beds_per_thousand                  6826 non-null   float64\n",
      " 60  life_expectancy                             13522 non-null  float64\n",
      " 61  human_development_index                     10174 non-null  float64\n",
      " 62  population                                  15196 non-null  float64\n",
      " 63  excess_mortality_cumulative_absolute        148 non-null    float64\n",
      " 64  excess_mortality_cumulative                 148 non-null    float64\n",
      " 65  excess_mortality                            148 non-null    float64\n",
      " 66  excess_mortality_cumulative_per_million     148 non-null    float64\n",
      "dtypes: float64(62), object(5)\n",
      "memory usage: 7.8+ MB\n"
     ]
    }
   ],
   "source": [
    "covid_data.info()"
   ]
  },
  {
   "cell_type": "markdown",
   "id": "3b217b32-9675-4e23-8a4f-403a0b4e331e",
   "metadata": {},
   "source": [
    "#### Checking for null values "
   ]
  },
  {
   "cell_type": "code",
   "execution_count": 5,
   "id": "2bc5ea0a-4c74-419d-bb5c-9a1c581e48c1",
   "metadata": {},
   "outputs": [
    {
     "data": {
      "text/plain": [
       "iso_code                                       0\n",
       "continent                                   1674\n",
       "location                                       0\n",
       "date                                           0\n",
       "total_cases                                    4\n",
       "                                           ...  \n",
       "population                                     1\n",
       "excess_mortality_cumulative_absolute       15049\n",
       "excess_mortality_cumulative                15049\n",
       "excess_mortality                           15049\n",
       "excess_mortality_cumulative_per_million    15049\n",
       "Length: 67, dtype: int64"
      ]
     },
     "execution_count": 5,
     "metadata": {},
     "output_type": "execute_result"
    }
   ],
   "source": [
    "covid_data.isnull().sum()"
   ]
  },
  {
   "cell_type": "markdown",
   "id": "4a2129be-621f-464c-ae01-0b0c561985d5",
   "metadata": {},
   "source": [
    "Looking at the percentages of null values in a column"
   ]
  },
  {
   "cell_type": "code",
   "execution_count": 6,
   "id": "26956b3e-318b-48f1-8e3d-dc9139cd00d6",
   "metadata": {},
   "outputs": [],
   "source": [
    "missing_data_percentage=covid_data.isnull().mean()*100\n",
    "#missing_data_percentage.sort_values(ascending= False)"
   ]
  },
  {
   "cell_type": "code",
   "execution_count": 7,
   "id": "8dfd7d58-2e9c-409e-a25a-7d0734cf7b74",
   "metadata": {},
   "outputs": [
    {
     "data": {
      "text/plain": [
       "icu_patients                                94.577877\n",
       "icu_patients_per_million                    94.577877\n",
       "hosp_patients                              100.000000\n",
       "hosp_patients_per_million                  100.000000\n",
       "weekly_icu_admissions                      100.000000\n",
       "weekly_icu_admissions_per_million          100.000000\n",
       "weekly_hosp_admissions                     100.000000\n",
       "weekly_hosp_admissions_per_million         100.000000\n",
       "total_tests                                 93.682964\n",
       "new_tests                                   94.479174\n",
       "total_tests_per_thousand                    93.682964\n",
       "new_tests_per_thousand                      94.479174\n",
       "new_tests_smoothed                          85.845891\n",
       "new_tests_smoothed_per_thousand             85.845891\n",
       "positive_rate                               86.036718\n",
       "tests_per_case                              86.569718\n",
       "tests_units                                 85.516878\n",
       "total_vaccinations                          87.602816\n",
       "people_vaccinated                           88.043693\n",
       "people_fully_vaccinated                     88.596434\n",
       "total_boosters                              93.071001\n",
       "new_vaccinations                            91.557544\n",
       "total_vaccinations_per_hundred              87.602816\n",
       "people_vaccinated_per_hundred               88.043693\n",
       "people_fully_vaccinated_per_hundred         88.596434\n",
       "total_boosters_per_hundred                  93.071001\n",
       "extreme_poverty                             77.113904\n",
       "excess_mortality_cumulative_absolute        99.026124\n",
       "excess_mortality_cumulative                 99.026124\n",
       "excess_mortality                            99.026124\n",
       "excess_mortality_cumulative_per_million     99.026124\n",
       "dtype: float64"
      ]
     },
     "execution_count": 7,
     "metadata": {},
     "output_type": "execute_result"
    }
   ],
   "source": [
    "high_missing=missing_data_percentage[missing_data_percentage >70 ]\n",
    "high_missing"
   ]
  },
  {
   "cell_type": "markdown",
   "id": "387b9b6d-3c69-42bc-b1af-8c7ab01bb0b8",
   "metadata": {},
   "source": [
    "This list of column names will be dropped because they have over 70 % of missing data. "
   ]
  },
  {
   "cell_type": "code",
   "execution_count": 8,
   "id": "b8307551-1108-4355-94f6-39a1341beca4",
   "metadata": {},
   "outputs": [
    {
     "data": {
      "text/plain": [
       "Index(['icu_patients', 'icu_patients_per_million', 'hosp_patients',\n",
       "       'hosp_patients_per_million', 'weekly_icu_admissions',\n",
       "       'weekly_icu_admissions_per_million', 'weekly_hosp_admissions',\n",
       "       'weekly_hosp_admissions_per_million', 'total_tests', 'new_tests',\n",
       "       'total_tests_per_thousand', 'new_tests_per_thousand',\n",
       "       'new_tests_smoothed', 'new_tests_smoothed_per_thousand',\n",
       "       'positive_rate', 'tests_per_case', 'tests_units', 'total_vaccinations',\n",
       "       'people_vaccinated', 'people_fully_vaccinated', 'total_boosters',\n",
       "       'new_vaccinations', 'total_vaccinations_per_hundred',\n",
       "       'people_vaccinated_per_hundred', 'people_fully_vaccinated_per_hundred',\n",
       "       'total_boosters_per_hundred', 'extreme_poverty',\n",
       "       'excess_mortality_cumulative_absolute', 'excess_mortality_cumulative',\n",
       "       'excess_mortality', 'excess_mortality_cumulative_per_million'],\n",
       "      dtype='object')"
      ]
     },
     "execution_count": 8,
     "metadata": {},
     "output_type": "execute_result"
    }
   ],
   "source": [
    "high_missing.index"
   ]
  },
  {
   "cell_type": "code",
   "execution_count": 9,
   "id": "797a0935-9f3a-4e16-9cd7-2d015f9eea33",
   "metadata": {},
   "outputs": [],
   "source": [
    "cleaned_covid_data=covid_data.drop(columns=high_missing.index)"
   ]
  },
  {
   "cell_type": "code",
   "execution_count": 10,
   "id": "e3a0788a-5330-49e7-9e3c-c86b5a1b6874",
   "metadata": {},
   "outputs": [
    {
     "data": {
      "text/plain": [
       "(15197, 36)"
      ]
     },
     "execution_count": 10,
     "metadata": {},
     "output_type": "execute_result"
    }
   ],
   "source": [
    "cleaned_covid_data.shape"
   ]
  },
  {
   "cell_type": "code",
   "execution_count": 11,
   "id": "598b8e7f-d6b1-4139-8ef3-3f5501a7f706",
   "metadata": {},
   "outputs": [
    {
     "data": {
      "text/plain": [
       "iso_code                                          0\n",
       "continent                                      1674\n",
       "location                                          0\n",
       "date                                              0\n",
       "total_cases                                       4\n",
       "new_cases                                         4\n",
       "new_cases_smoothed                               54\n",
       "total_deaths                                      5\n",
       "new_deaths                                        5\n",
       "new_deaths_smoothed                              55\n",
       "total_cases_per_million                           5\n",
       "new_cases_per_million                             5\n",
       "new_cases_smoothed_per_million                   55\n",
       "total_deaths_per_million                          5\n",
       "new_deaths_per_million                            5\n",
       "new_deaths_smoothed_per_million                  55\n",
       "reproduction_rate                              9326\n",
       "new_vaccinations_smoothed                      8164\n",
       "new_vaccinations_smoothed_per_million          8164\n",
       "new_people_vaccinated_smoothed                 8157\n",
       "new_people_vaccinated_smoothed_per_hundred     8157\n",
       "stringency_index                               9607\n",
       "population_density                             3349\n",
       "median_age                                     6697\n",
       "aged_65_older                                  6697\n",
       "aged_70_older                                  6697\n",
       "gdp_per_capita                                 6697\n",
       "cardiovasc_death_rate                          3349\n",
       "diabetes_prevalence                            5023\n",
       "female_smokers                                10045\n",
       "male_smokers                                  10045\n",
       "handwashing_facilities                        10175\n",
       "hospital_beds_per_thousand                     8371\n",
       "life_expectancy                                1675\n",
       "human_development_index                        5023\n",
       "population                                        1\n",
       "dtype: int64"
      ]
     },
     "execution_count": 11,
     "metadata": {},
     "output_type": "execute_result"
    }
   ],
   "source": [
    "cleaned_covid_data.isnull().sum()"
   ]
  },
  {
   "cell_type": "code",
   "execution_count": 25,
   "id": "12f93e9c-9f65-46f6-b536-a766c8678c3d",
   "metadata": {},
   "outputs": [
    {
     "data": {
      "text/plain": [
       "iso_code                                       object\n",
       "continent                                      object\n",
       "location                                       object\n",
       "date                                           object\n",
       "total_cases                                   float64\n",
       "new_cases                                     float64\n",
       "new_cases_smoothed                            float64\n",
       "total_deaths                                  float64\n",
       "new_deaths                                    float64\n",
       "new_deaths_smoothed                           float64\n",
       "total_cases_per_million                       float64\n",
       "new_cases_per_million                         float64\n",
       "new_cases_smoothed_per_million                float64\n",
       "total_deaths_per_million                      float64\n",
       "new_deaths_per_million                        float64\n",
       "new_deaths_smoothed_per_million               float64\n",
       "reproduction_rate                             float64\n",
       "new_vaccinations_smoothed                     float64\n",
       "new_vaccinations_smoothed_per_million         float64\n",
       "new_people_vaccinated_smoothed                float64\n",
       "new_people_vaccinated_smoothed_per_hundred    float64\n",
       "stringency_index                              float64\n",
       "population_density                            float64\n",
       "median_age                                    float64\n",
       "aged_65_older                                 float64\n",
       "aged_70_older                                 float64\n",
       "gdp_per_capita                                float64\n",
       "cardiovasc_death_rate                         float64\n",
       "diabetes_prevalence                           float64\n",
       "female_smokers                                float64\n",
       "male_smokers                                  float64\n",
       "handwashing_facilities                        float64\n",
       "hospital_beds_per_thousand                    float64\n",
       "life_expectancy                               float64\n",
       "human_development_index                       float64\n",
       "population                                    float64\n",
       "dtype: object"
      ]
     },
     "execution_count": 25,
     "metadata": {},
     "output_type": "execute_result"
    }
   ],
   "source": [
    "cleaned_covid_data.dtypes"
   ]
  },
  {
   "cell_type": "code",
   "execution_count": 29,
   "id": "c3e01e96-09fd-48b8-80ca-e1676ff76b72",
   "metadata": {},
   "outputs": [
    {
     "data": {
      "text/plain": [
       "Index(['total_cases', 'new_cases', 'new_cases_smoothed', 'total_deaths',\n",
       "       'new_deaths', 'new_deaths_smoothed', 'total_cases_per_million',\n",
       "       'new_cases_per_million', 'new_cases_smoothed_per_million',\n",
       "       'total_deaths_per_million', 'new_deaths_per_million',\n",
       "       'new_deaths_smoothed_per_million', 'reproduction_rate',\n",
       "       'new_vaccinations_smoothed', 'new_vaccinations_smoothed_per_million',\n",
       "       'new_people_vaccinated_smoothed',\n",
       "       'new_people_vaccinated_smoothed_per_hundred', 'stringency_index',\n",
       "       'population_density', 'median_age', 'aged_65_older', 'aged_70_older',\n",
       "       'gdp_per_capita', 'cardiovasc_death_rate', 'diabetes_prevalence',\n",
       "       'female_smokers', 'male_smokers', 'handwashing_facilities',\n",
       "       'hospital_beds_per_thousand', 'life_expectancy',\n",
       "       'human_development_index', 'population'],\n",
       "      dtype='object')"
      ]
     },
     "execution_count": 29,
     "metadata": {},
     "output_type": "execute_result"
    }
   ],
   "source": [
    "numerical_columns=cleaned_covid_data.select_dtypes('float64').columns\n",
    "numerical_columns"
   ]
  },
  {
   "cell_type": "code",
   "execution_count": 31,
   "id": "44f7af86-bff5-4a7a-b58d-61a7c24a8930",
   "metadata": {},
   "outputs": [],
   "source": [
    "for col in numerical_columns:\n",
    "    if cleaned_covid_data[col].isnull().any():\n",
    "        cleaned_covid_data[col]=cleaned_covid_data[col].fillna(cleaned_covid_data[col].median())\n",
    "        "
   ]
  },
  {
   "cell_type": "code",
   "execution_count": 32,
   "id": "ddbb3fd4-b183-40ef-87d3-f89c1f7ade74",
   "metadata": {},
   "outputs": [
    {
     "data": {
      "text/plain": [
       "iso_code                                         0\n",
       "continent                                     1674\n",
       "location                                         0\n",
       "date                                             0\n",
       "total_cases                                      0\n",
       "new_cases                                        0\n",
       "new_cases_smoothed                               0\n",
       "total_deaths                                     0\n",
       "new_deaths                                       0\n",
       "new_deaths_smoothed                              0\n",
       "total_cases_per_million                          0\n",
       "new_cases_per_million                            0\n",
       "new_cases_smoothed_per_million                   0\n",
       "total_deaths_per_million                         0\n",
       "new_deaths_per_million                           0\n",
       "new_deaths_smoothed_per_million                  0\n",
       "reproduction_rate                                0\n",
       "new_vaccinations_smoothed                        0\n",
       "new_vaccinations_smoothed_per_million            0\n",
       "new_people_vaccinated_smoothed                   0\n",
       "new_people_vaccinated_smoothed_per_hundred       0\n",
       "stringency_index                                 0\n",
       "population_density                               0\n",
       "median_age                                       0\n",
       "aged_65_older                                    0\n",
       "aged_70_older                                    0\n",
       "gdp_per_capita                                   0\n",
       "cardiovasc_death_rate                            0\n",
       "diabetes_prevalence                              0\n",
       "female_smokers                                   0\n",
       "male_smokers                                     0\n",
       "handwashing_facilities                           0\n",
       "hospital_beds_per_thousand                       0\n",
       "life_expectancy                                  0\n",
       "human_development_index                          0\n",
       "population                                       0\n",
       "dtype: int64"
      ]
     },
     "execution_count": 32,
     "metadata": {},
     "output_type": "execute_result"
    }
   ],
   "source": [
    "cleaned_covid_data.isnull().sum()"
   ]
  },
  {
   "cell_type": "code",
   "execution_count": 36,
   "id": "23d1601d-20fa-4d7d-8f6c-e5fc0dae8419",
   "metadata": {},
   "outputs": [
    {
     "data": {
      "text/plain": [
       "Index(['iso_code', 'continent', 'location', 'date', 'total_cases', 'new_cases',\n",
       "       'new_cases_smoothed', 'total_deaths', 'new_deaths',\n",
       "       'new_deaths_smoothed', 'total_cases_per_million',\n",
       "       'new_cases_per_million', 'new_cases_smoothed_per_million',\n",
       "       'total_deaths_per_million', 'new_deaths_per_million',\n",
       "       'new_deaths_smoothed_per_million', 'reproduction_rate',\n",
       "       'new_vaccinations_smoothed', 'new_vaccinations_smoothed_per_million',\n",
       "       'new_people_vaccinated_smoothed',\n",
       "       'new_people_vaccinated_smoothed_per_hundred', 'stringency_index',\n",
       "       'population_density', 'median_age', 'aged_65_older', 'aged_70_older',\n",
       "       'gdp_per_capita', 'cardiovasc_death_rate', 'diabetes_prevalence',\n",
       "       'female_smokers', 'male_smokers', 'handwashing_facilities',\n",
       "       'hospital_beds_per_thousand', 'life_expectancy',\n",
       "       'human_development_index', 'population'],\n",
       "      dtype='object')"
      ]
     },
     "execution_count": 36,
     "metadata": {},
     "output_type": "execute_result"
    }
   ],
   "source": [
    "cleaned_covid_data.columns"
   ]
  },
  {
   "cell_type": "code",
   "execution_count": 12,
   "id": "2ebc29b9-031d-49e4-a33e-55fcde80a988",
   "metadata": {},
   "outputs": [],
   "source": [
    "cleaned_covid_data.drop(columns='continent',inplace=True)"
   ]
  },
  {
   "cell_type": "code",
   "execution_count": 13,
   "id": "d468ffbb-af2a-4d56-b7e1-1408fe71c436",
   "metadata": {},
   "outputs": [
    {
     "data": {
      "text/plain": [
       "(15197, 35)"
      ]
     },
     "execution_count": 13,
     "metadata": {},
     "output_type": "execute_result"
    }
   ],
   "source": [
    "cleaned_covid_data.shape"
   ]
  },
  {
   "cell_type": "markdown",
   "id": "d4e9e8d2-670f-423a-91fd-2cf6e550cea4",
   "metadata": {},
   "source": [
    "#### Checking for duplicates"
   ]
  },
  {
   "cell_type": "code",
   "execution_count": 17,
   "id": "d6703e29-3c56-4e35-9b70-12ce02991d40",
   "metadata": {},
   "outputs": [
    {
     "data": {
      "text/plain": [
       "0"
      ]
     },
     "execution_count": 17,
     "metadata": {},
     "output_type": "execute_result"
    }
   ],
   "source": [
    "cleaned_covid_data.duplicated().sum()"
   ]
  },
  {
   "cell_type": "markdown",
   "id": "5858b94e-56d4-462b-9555-a23315dd71f8",
   "metadata": {},
   "source": [
    "There are no duplicated values."
   ]
  },
  {
   "cell_type": "code",
   "execution_count": 20,
   "id": "ed877df4-a817-4e86-8804-b5aec88d4dbf",
   "metadata": {},
   "outputs": [],
   "source": [
    "#cleaned_covid_data.head()"
   ]
  },
  {
   "cell_type": "markdown",
   "id": "c99ab31d-d2ca-4936-943e-6a13a8293a24",
   "metadata": {},
   "source": [
    "### Datetime conversion "
   ]
  },
  {
   "cell_type": "code",
   "execution_count": 21,
   "id": "30949f45-593b-434a-abfe-2f0f7126434a",
   "metadata": {},
   "outputs": [],
   "source": [
    "cleaned_covid_data['date']=pd.to_datetime(cleaned_covid_data['date'])"
   ]
  },
  {
   "cell_type": "markdown",
   "id": "6be2f2c9-acfd-40b2-beab-24d7afba412d",
   "metadata": {},
   "source": [
    "### Outlier detection"
   ]
  },
  {
   "cell_type": "code",
   "execution_count": 32,
   "id": "2911a3c7-af70-46bd-ba8f-f0f1e4e8186f",
   "metadata": {},
   "outputs": [
    {
     "name": "stdout",
     "output_type": "stream",
     "text": [
      "Outliers in new_cases: 1489\n",
      "Outliers in new_deaths: 903\n",
      "Outliers in total_cases: 1485\n",
      "Outliers in total_deaths: 1506\n"
     ]
    }
   ],
   "source": [
    "def detect_outliers_iqr(series):\n",
    "    \"\"\"\n",
    "    Detects outliers using interquartile range method\n",
    "    \"\"\"\"\"\n",
    "   \n",
    "    q1=series.quantile(0.25)\n",
    "    q3=series.quantile(0.75)\n",
    "    iqr=q3-q1\n",
    "    lower_bound=q1-(1.5*iqr)\n",
    "    upper_bound=q3+(1.5*iqr)\n",
    "\n",
    "    return (series <lower_bound)|(series>upper_bound)\n",
    "\n",
    "outlier_cols = ['new_cases', 'new_deaths', 'total_cases', 'total_deaths']\n",
    "for col in outlier_cols:\n",
    "    outliers = detect_outliers_iqr(cleaned_covid_data[col])\n",
    "    print(f\"Outliers in {col}: {outliers.sum()}\")\n"
   ]
  },
  {
   "cell_type": "code",
   "execution_count": 35,
   "id": "f81fb752-6638-48ab-aedf-84c82a7cb401",
   "metadata": {},
   "outputs": [
    {
     "data": {
      "text/plain": [
       "0.0"
      ]
     },
     "execution_count": 35,
     "metadata": {},
     "output_type": "execute_result"
    }
   ],
   "source": [
    "cleaned_covid_data['new_cases'].median()"
   ]
  },
  {
   "cell_type": "markdown",
   "id": "8bda0317-214f-4ed5-a74b-72d21a543877",
   "metadata": {},
   "source": [
    "## Global trends"
   ]
  },
  {
   "cell_type": "code",
   "execution_count": null,
   "id": "3280029f-3ee7-46a9-89f4-fd960517cd06",
   "metadata": {},
   "outputs": [],
   "source": []
  }
 ],
 "metadata": {
  "kernelspec": {
   "display_name": "Python 3 (ipykernel)",
   "language": "python",
   "name": "python3"
  },
  "language_info": {
   "codemirror_mode": {
    "name": "ipython",
    "version": 3
   },
   "file_extension": ".py",
   "mimetype": "text/x-python",
   "name": "python",
   "nbconvert_exporter": "python",
   "pygments_lexer": "ipython3",
   "version": "3.12.7"
  }
 },
 "nbformat": 4,
 "nbformat_minor": 5
}
